{
 "cells": [
  {
   "cell_type": "code",
   "execution_count": 7,
   "metadata": {},
   "outputs": [],
   "source": [
    "import pandas as pd\n",
    "import numpy as np\n",
    "import matplotlib.pyplot as plt\n",
    "import seaborn as sns"
   ]
  },
  {
   "cell_type": "code",
   "execution_count": 20,
   "metadata": {},
   "outputs": [],
   "source": [
    "cell_df = pd.read_csv('/home/kavi/Code/PacketMasti/Research-Nit/output/output-small.csv')\n",
    "# cell_df"
   ]
  },
  {
   "cell_type": "code",
   "execution_count": 21,
   "metadata": {},
   "outputs": [
    {
     "data": {
      "text/plain": [
       "Index(['packetId', 'pii_exist', 'Unnamed: 2', '31.13.70.52',\n",
       "       'gzip, deflate, sdch', 'en-US', 'keep-alive',\n",
       "       'scontent-lax3-1.cdninstagram.com', 'Instagram 9.2.0 Android ', '7.0',\n",
       "       ...\n",
       "       '430-146496160.1', 'X-google.message_id.1', 'sender.1', 'cert.1',\n",
       "       'gcm_ver.1', 'c2dm.1', 'register3.1', 'mads.1', 'mad.1',\n",
       "       'sdk-core-v40-loader.appcache.1'],\n",
       "      dtype='object', length=10742)"
      ]
     },
     "execution_count": 21,
     "metadata": {},
     "output_type": "execute_result"
    }
   ],
   "source": [
    "malignant_df = cell_df[cell_df['pii_exist'] == 1]\n",
    "benign_df = cell_df[cell_df['pii_exist'] == 0]\n",
    "\n",
    "malignant_df.columns\n",
    "\n",
    "# axes = benign_df.plot(kind='scatter',x='pii_exist',y='deviceid',color='blue',label='benign')\n",
    "# malignant_df.plot(kind='scatter',x='pii_exist',y='deviceid',color='red',label='malignant',ax=axes)"
   ]
  },
  {
   "cell_type": "code",
   "execution_count": 24,
   "metadata": {},
   "outputs": [
    {
     "data": {
      "text/plain": [
       "(181, 10740)"
      ]
     },
     "execution_count": 24,
     "metadata": {},
     "output_type": "execute_result"
    }
   ],
   "source": [
    "cell_df.columns\n",
    "#  = cell_df[:]\n",
    "feature_df= cell_df.drop(cell_df.columns[:2], axis=1)\n",
    "\n",
    "#let say it have 100 rows, i am just, picked 9 colums out of it  \n",
    "#thus 9 colums our of 11\n",
    "\n",
    "# independent variable\n",
    "X = np.asarray(feature_df)\n",
    "#dependent variable\n",
    "Y=np.asarray(cell_df['pii_exist'])\n",
    "\n",
    "\n",
    "\n",
    "from sklearn.model_selection import train_test_split\n",
    "X_train,X_test,Y_train,Y_test = train_test_split(X,Y,test_size = 0.1,random_state=4)\n",
    "\n",
    "X_train.shape\n",
    "X_test.shape"
   ]
  },
  {
   "cell_type": "code",
   "execution_count": 23,
   "metadata": {},
   "outputs": [],
   "source": [
    "from sklearn import svm\n",
    "\n",
    "classifier = svm.SVC(kernel='linear',gamma='auto',C=1)\n",
    "classifier.fit(X_train,Y_train)\n",
    "y_predict = classifier.predict(X_test)"
   ]
  },
  {
   "cell_type": "code",
   "execution_count": 25,
   "metadata": {},
   "outputs": [
    {
     "name": "stdout",
     "output_type": "stream",
     "text": [
      "              precision    recall  f1-score   support\n",
      "\n",
      "           0       0.99      0.99      0.99       130\n",
      "           1       1.00      1.00      1.00        23\n",
      "           2       0.93      0.96      0.95        27\n",
      "           3       0.00      0.00      0.00         1\n",
      "\n",
      "    accuracy                           0.98       181\n",
      "   macro avg       0.73      0.74      0.73       181\n",
      "weighted avg       0.98      0.98      0.98       181\n",
      "\n"
     ]
    },
    {
     "name": "stderr",
     "output_type": "stream",
     "text": [
      "/home/kavi/.local/lib/python3.11/site-packages/sklearn/metrics/_classification.py:1509: UndefinedMetricWarning: Precision is ill-defined and being set to 0.0 in labels with no predicted samples. Use `zero_division` parameter to control this behavior.\n",
      "  _warn_prf(average, modifier, f\"{metric.capitalize()} is\", len(result))\n",
      "/home/kavi/.local/lib/python3.11/site-packages/sklearn/metrics/_classification.py:1509: UndefinedMetricWarning: Precision is ill-defined and being set to 0.0 in labels with no predicted samples. Use `zero_division` parameter to control this behavior.\n",
      "  _warn_prf(average, modifier, f\"{metric.capitalize()} is\", len(result))\n",
      "/home/kavi/.local/lib/python3.11/site-packages/sklearn/metrics/_classification.py:1509: UndefinedMetricWarning: Precision is ill-defined and being set to 0.0 in labels with no predicted samples. Use `zero_division` parameter to control this behavior.\n",
      "  _warn_prf(average, modifier, f\"{metric.capitalize()} is\", len(result))\n"
     ]
    }
   ],
   "source": [
    "from sklearn.metrics import classification_report\n",
    "print(classification_report(Y_test,y_predict))"
   ]
  },
  {
   "cell_type": "code",
   "execution_count": 26,
   "metadata": {},
   "outputs": [
    {
     "name": "stdout",
     "output_type": "stream",
     "text": [
      "<class 'pandas.core.frame.DataFrame'>\n",
      "RangeIndex: 1807 entries, 0 to 1806\n",
      "Columns: 10742 entries, packetId to sdk-core-v40-loader.appcache.1\n",
      "dtypes: int64(10741), object(1)\n",
      "memory usage: 148.1+ MB\n"
     ]
    }
   ],
   "source": [
    "cell_df.info()"
   ]
  },
  {
   "cell_type": "code",
   "execution_count": null,
   "metadata": {},
   "outputs": [
    {
     "ename": "",
     "evalue": "",
     "output_type": "error",
     "traceback": [
      "\u001b[1;31mRunning cells with '/bin/python' requires the ipykernel package.\n",
      "\u001b[1;31mRun the following command to install 'ipykernel' into the Python environment. \n",
      "\u001b[1;31mCommand: '/bin/python -m pip install ipykernel -U --user --force-reinstall'"
     ]
    }
   ],
   "source": [
    "sns.pairplot(cell_df)\n",
    "\n"
   ]
  },
  {
   "cell_type": "code",
   "execution_count": null,
   "metadata": {},
   "outputs": [
    {
     "ename": "",
     "evalue": "",
     "output_type": "error",
     "traceback": [
      "\u001b[1;31mRunning cells with '/bin/python' requires the ipykernel package.\n",
      "\u001b[1;31mRun the following command to install 'ipykernel' into the Python environment. \n",
      "\u001b[1;31mCommand: '/bin/python -m pip install ipykernel -U --user --force-reinstall'"
     ]
    }
   ],
   "source": [
    "cell_df.columns\n",
    "#  = cell_df[:]\n",
    "feature_df= cell_df.drop(cell_df.columns[:2], axis=1)\n",
    "\n",
    "#let say it have 100 rows, i am just, picked 9 colums out of it  \n",
    "#thus 9 colums our of 11\n",
    "\n",
    "# independent variable\n",
    "X = np.asarray(feature_df)\n",
    "#dependent variable\n",
    "Y=np.asarray(cell_df['pii_exist'])\n",
    "\n",
    "\n",
    "\n",
    "from sklearn.model_selection import train_test_split\n",
    "SVM1X_train,SVM2X_train,SVM1Y_train,SVM2Y_train = train_test_split(X,Y,test_size = 0.5,random_state=4)\n",
    "\n",
    "\n",
    "\n",
    "\n",
    "from sklearn.svm import SVC\n",
    "\n",
    "# Assuming you have two trained SVM models svm1 and svm2\n",
    "svm1 = SVC(kernel='linear', C=1.0)\n",
    "svm2 = SVC(kernel='linear', C=1.0)\n",
    "\n",
    "svm1.fit(SVM1X_train,SVM1Y_train)\n",
    "svm2.fit(SVM2X_train,SVM2Y_train)\n",
    "\n",
    "coefficients_svm1 = svm1.coef_\n",
    "intercept_svm1 = svm1.intercept_\n",
    "\n",
    "coefficients_svm2 = svm2.coef_\n",
    "intercept_svm2 = svm2.intercept_\n",
    "\n",
    "\n",
    "print('coeff',coefficients_svm1,coefficients_svm2)\n",
    "print('intercept',intercept_svm1,intercept_svm2)\n",
    "# Train svm1 and svm2 on your data...\n",
    "\n",
    "# Get the coefficients and intercepts of each SVM\n",
    "\n",
    "\n",
    "# Average the coefficients and intercepts\n",
    "average_coefficients = (coefficients_svm1 + coefficients_svm2) / 2\n",
    "average_intercept = (intercept_svm1 + intercept_svm2) / 2\n",
    "\n",
    "# Create a new SVM model with the averaged coefficients and intercept\n",
    "joined_svm = SVC(kernel='linear', C=1.0, degree=3, gamma='auto', \n",
    "                coef0=average_coefficients)\n",
    "# Create the combined SVM model\n",
    "joined_svm.intercept_ = average_intercept\n",
    "\n",
    "# Now you can use the joined_svm model for prediction\n",
    "\n",
    "joined_svm_predict = classifier.predict(SVM1X_train)\n",
    "\n",
    "\n",
    "\n",
    "from sklearn.metrics import classification_report\n",
    "print(classification_report(SVM1Y_train,joined_svm_predict))\n",
    "\n",
    "\n",
    "\n",
    "\n",
    "\n",
    "\n",
    "\n",
    "\n"
   ]
  },
  {
   "cell_type": "code",
   "execution_count": null,
   "metadata": {},
   "outputs": [
    {
     "ename": "",
     "evalue": "",
     "output_type": "error",
     "traceback": [
      "\u001b[1;31mRunning cells with '/bin/python' requires the ipykernel package.\n",
      "\u001b[1;31mRun the following command to install 'ipykernel' into the Python environment. \n",
      "\u001b[1;31mCommand: '/bin/python -m pip install ipykernel -U --user --force-reinstall'"
     ]
    }
   ],
   "source": [
    "cell_df.columns\n",
    "#  = cell_df[:]\n",
    "feature_df= cell_df.drop(cell_df.columns[:2], axis=1)\n",
    "\n",
    "#let say it have 100 rows, i am just, picked 9 colums out of it  \n",
    "#thus 9 colums our of 11\n",
    "\n",
    "# independent variable\n",
    "X = np.asarray(feature_df)\n",
    "#dependent variable\n",
    "Y=np.asarray(cell_df['pii_exist'])\n",
    "\n",
    "\n",
    "\n",
    "from sklearn.model_selection import train_test_split\n",
    "\n",
    "# X_train, X_temp, y_train, y_temp = train_test_split(X, y, test_size=0.4, random_state=42)\n",
    "\n",
    "# # Split the remaining data into validation and test sets\n",
    "# X_valid, X_test, y_valid, y_test = train_test_split(X_temp, y_temp, test_size=0.5, random_state=42)\n",
    "\n",
    "SVM1X_train,X_temp,SVM1Y_train,Y_temp = train_test_split(X,Y,test_size = 0.6,random_state=4)\n",
    "SVM2X_train,joinx_train,SVM2Y_train,joiny_train = train_test_split(X_temp,Y_temp,test_size = 0.5,random_state=4)\n",
    "\n",
    "\n",
    "\n",
    "\n",
    "from sklearn.svm import SVC\n",
    "\n",
    "# Assuming you have two trained SVM models svm1 and svm2\n",
    "svm1 = SVC(kernel='linear', C=1.0)\n",
    "svm2 = SVC(kernel='linear', C=1.0)\n",
    "\n",
    "svm1.fit(SVM1X_train,SVM1Y_train)\n",
    "svm2.fit(SVM2X_train,SVM2Y_train)\n",
    "\n",
    "coefficients_svm1 = svm1.coef_\n",
    "intercept_svm1 = svm1.intercept_\n",
    "\n",
    "coefficients_svm2 = svm2.coef_\n",
    "intercept_svm2 = svm2.intercept_\n",
    "\n",
    "\n",
    "\n",
    "\n",
    "# Train svm1 and svm2 on your data...\n",
    "\n",
    "# Get the coefficients and intercepts of each SVM\n",
    "\n",
    "\n",
    "# Average the coefficients and intercepts\n",
    "average_coefficients = (coefficients_svm1 + coefficients_svm2) / 2\n",
    "average_intercept = (intercept_svm1 + intercept_svm2) / 2\n",
    "\n",
    "# Create a new SVM model with the averaged coefficients and intercept\n",
    "joined_svm = SVC(kernel='linear', C=1.0, degree=3, gamma='auto', \n",
    "                coef0=average_coefficients,)\n",
    "\n",
    "# Now you can use the joined_svm model for prediction\n",
    "\n",
    "joined_svm_predict = classifier.predict(joinx_train)\n",
    "\n",
    "\n",
    "\n",
    "from sklearn.metrics import classification_report\n",
    "print(classification_report(joiny_train,joined_svm_predict))\n",
    "\n",
    "\n",
    "\n",
    "\n",
    "\n",
    "\n",
    "\n",
    "\n"
   ]
  },
  {
   "cell_type": "code",
   "execution_count": null,
   "metadata": {},
   "outputs": [
    {
     "ename": "",
     "evalue": "",
     "output_type": "error",
     "traceback": [
      "\u001b[1;31mRunning cells with '/bin/python' requires the ipykernel package.\n",
      "\u001b[1;31mRun the following command to install 'ipykernel' into the Python environment. \n",
      "\u001b[1;31mCommand: '/bin/python -m pip install ipykernel -U --user --force-reinstall'"
     ]
    }
   ],
   "source": [
    "df1 = pd.read_csv('output/output1.csv')\n",
    "df2 = pd.read_csv('output/output.csv')\n",
    "\n",
    "df1.info()\n",
    "df2.info()"
   ]
  }
 ],
 "metadata": {
  "kernelspec": {
   "display_name": "base",
   "language": "python",
   "name": "python3"
  },
  "language_info": {
   "codemirror_mode": {
    "name": "ipython",
    "version": 3
   },
   "file_extension": ".py",
   "mimetype": "text/x-python",
   "name": "python",
   "nbconvert_exporter": "python",
   "pygments_lexer": "ipython3",
   "version": "3.11.8"
  }
 },
 "nbformat": 4,
 "nbformat_minor": 2
}
